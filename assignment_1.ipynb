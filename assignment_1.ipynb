{
 "cells": [
  {
   "cell_type": "markdown",
   "metadata": {},
   "source": [
    "###### ### The University of Melbourne, School of Computing and Information Systems\n",
    "# COMP30027 Machine Learning, 2021 Semester 1\n",
    "\n",
    "## Assignment 1: Pose classification with naive Bayes\n",
    "\n",
    "###### Submission deadline: 7 pm, Tuesday 6 Apr 2021"
   ]
  },
  {
   "cell_type": "markdown",
   "metadata": {},
   "source": [
    "**Student ID(s):**     `PLEASE ENTER YOUR ID(S) HERE`\n"
   ]
  },
  {
   "cell_type": "markdown",
   "metadata": {},
   "source": [
    "This iPython notebook is a template which you will use for your Assignment 1 submission.\n",
    "\n",
    "Marking will be applied on the four functions that are defined in this notebook, and to your responses to the questions at the end of this notebook (Submitted in a separate PDF file).\n",
    "\n",
    "**NOTE: YOU SHOULD ADD YOUR RESULTS, DIAGRAMS AND IMAGES FROM YOUR OBSERVATIONS IN THIS FILE TO YOUR REPORT (the PDF file).**\n",
    "\n",
    "You may change the prototypes of these functions, and you may write other functions, according to your requirements. We would appreciate it if the required functions were prominent/easy to find.\n",
    "\n",
    "**Adding proper comments to your code is MANDATORY. **"
   ]
  },
  {
   "cell_type": "code",
   "execution_count": 29,
   "metadata": {},
   "outputs": [],
   "source": [
    "import pandas as pd\n",
    "import numpy as np\n",
    "import matplotlib.pyplot as plt\n",
    "import random\n",
    "import scipy.stats\n",
    "from sklearn.model_selection import train_test_split"
   ]
  },
  {
   "cell_type": "code",
   "execution_count": 30,
   "metadata": {
    "collapsed": true
   },
   "outputs": [],
   "source": [
    "# This function should prepare the data by reading it from a file and converting it into a useful format for training and testing\n",
    "\n",
    "def preprocess(df_train, df_test):\n",
    "    \"\"\"\n",
    "    Notes:\n",
    "    1) preprocessing train dataset using mean\n",
    "    2) do not preprocess test dataset\n",
    "    ----------\n",
    "    Parameters\n",
    "    ---------- \n",
    "    df_train    : train df dataset\n",
    "    df_test     : test df dataset\n",
    "    \n",
    "    Returns\n",
    "    -------\n",
    "    df_train    : train df dataset (after preprocessing)\n",
    "    np_test     : test np array dataset (after preprocessing)\n",
    "    \"\"\"\n",
    "\n",
    "    # replace 9999 with NaN\n",
    "    df_train = df_train.replace([9999], np.nan)\n",
    "    df_test = df_test.replace([9999], np.nan)\n",
    "\n",
    "    '''Dealing with NaN values (optional)'''\n",
    "    # For train data\n",
    "    df_train = df_train.dropna(subset = headers[1:], how = 'all') # remove instances which all columns are NaN\n",
    "    # filling missing values by mean in each group\n",
    "    #f = lambda x: x.mean() if np.issubdtype(x.dtype, np.number) else x.mode().iloc[0]\n",
    "    #df_train = df_train.fillna(df_train.groupby('Pose').transform(f))\n",
    "\n",
    "    # For test data\n",
    "    df_test =  df_test.dropna(subset = headers[1:], how = 'all') # remove instances which all columns are NaN\n",
    "\n",
    "    # convert df_test to np array\n",
    "    np_test = np.array(df_test)\n",
    "\n",
    "    return df_train, np_test"
   ]
  },
  {
   "cell_type": "code",
   "execution_count": 31,
   "metadata": {
    "collapsed": true
   },
   "outputs": [],
   "source": [
    "# This function should calculate prior probabilities and likelihoods from the training data and usingthem to build a naive Bayes model\n",
    "\n",
    "def train(df_train):\n",
    "    \"\"\"\n",
    "    Notes:\n",
    "    1) calculate statistics for train dataset\n",
    "    ----------\n",
    "    Parameters\n",
    "    ---------- \n",
    "    df_train  : train datafram dataset\n",
    "    \n",
    "    Returns\n",
    "    -------\n",
    "    pose_dict : dict with prior probability for every pose, \n",
    "                with mean and std for every xi & yi\n",
    "                    eg. {pose: [pb_x, [[x1 mu, ..., y11 mu], [x1 sigma, ..., y11 sigma]]], ...}\n",
    "    \"\"\"\n",
    "\n",
    "    # get all concepts(poses) as a list\n",
    "    poses = list(df_train['Pose'].value_counts().index)\n",
    "\n",
    "    # calculate statistics in training dataset\n",
    "    pose_dict = dict()\n",
    "    for pose in poses:\n",
    "        pb_c = df_train.groupby('Pose').size()[pose] / len(df_train )   # get prior probabilities\n",
    "        pose_dict[pose] = np.array([pb_c, df_train[df_train['Pose'] == pose].describe().iloc[[1,2]].values], dtype=object) # get mean & stdv for all x and y (from x1y1 to x11y11)\n",
    "        \n",
    "\n",
    "    return pose_dict"
   ]
  },
  {
   "cell_type": "code",
   "execution_count": 32,
   "metadata": {
    "collapsed": true
   },
   "outputs": [],
   "source": [
    "# This function should predict classes for new items in a test dataset (for the purposes of this assignment, you can re-use the training data as a test set)\n",
    "\n",
    "def calc_phi(x, mu, sigma):\n",
    "    \"\"\"\n",
    "    Notes:\n",
    "    1) get ϕ𝜎(x − mu)\n",
    "    ----------\n",
    "    Parameters\n",
    "    ---------- \n",
    "    x       : observed x for class i\n",
    "    mu      : mean for class i\n",
    "    sigma   : standard deviation for class i\n",
    "    \n",
    "    Returns\n",
    "    -------\n",
    "    phi     : probability of observing value x from a variable with μ and σ\n",
    "    \"\"\"\n",
    "\n",
    "    # smoothing (with epsilon 0.00000001)\n",
    "    if np.isnan(x) or np.isnan(mu):\n",
    "        return 0.000000001\n",
    "\n",
    "    # return the likelihood of feature x_i in class c\n",
    "    phi = 1 / (sigma * np.sqrt(2 * np.pi)) * (np.e ** (- 1 / 2 * (((x - mu) / sigma) ** 2)))\n",
    "\n",
    "    if phi == 0:\n",
    "        return 0.000000001\n",
    "\n",
    "    return phi\n",
    "\n",
    "\n",
    "def predict(np_test, pose_dict):\n",
    "    \"\"\"\n",
    "    Notes:\n",
    "    1) do not calculate phi for missing values (ignore them)\n",
    "    ----------\n",
    "    Parameters\n",
    "    ---------- \n",
    "    np_test     : test dataset                      \n",
    "                    eg. [[pose, x1, x2, ..., y10, y11], ...]\n",
    "    pose_dict   : prior probability for each pose   \n",
    "                    eg. {pose: [pb_x, [[x1 mu, ..., y11 mu], [x1 sigma, ..., y11 sigma]]], ...}\n",
    "    \n",
    "    Returns\n",
    "    -------\n",
    "    results     : probability of observing value x from a variable with μ and σ\n",
    "    \"\"\"\n",
    "\n",
    "    results = list()\n",
    "    for instance in np_test:\n",
    "        # prob_dict to store all the probabilities (log form) for comparison later\n",
    "        prob_dict = dict()\n",
    "        features = instance[1:] # remove concept\n",
    "        for pose in pose_dict:\n",
    "            prob = 0\n",
    "            pb_c = pose_dict[pose][0] # Prior probability of class c_j\n",
    "            prob += np.log(pb_c)\n",
    "            feat_len = len(features)\n",
    "            for i in range(feat_len):\n",
    "                x = features[i] # data of feature x/y_i for test set\n",
    "                mu = pose_dict[pose][1][0][i] # mean of feature x/y_i\n",
    "                sigma = pose_dict[pose][1][1][i] # std of feature x/y_i\n",
    "                pb_x_c = calc_phi(x, mu, sigma)\n",
    "                prob += np.log(pb_x_c)\n",
    "            prob_dict[pose] = prob\n",
    "        predicted = max(prob_dict, key = prob_dict.get) # choose the highest value as predicted result\n",
    "        actual = instance[0]\n",
    "        results.append([predicted, actual])\n",
    "        \n",
    "    return results"
   ]
  },
  {
   "cell_type": "code",
   "execution_count": 33,
   "metadata": {
    "collapsed": true
   },
   "outputs": [],
   "source": [
    "# This function should evaliate the prediction performance by comparing your model’s class outputs to ground truth labels\n",
    "\n",
    "def evaluate(results):\n",
    "    \"\"\"\n",
    "    Notes:\n",
    "    1) get accuracy for the results\n",
    "    ----------\n",
    "    Parameters\n",
    "    ---------- \n",
    "    results     : 2d list       eg. [[predicted, result], ...]\n",
    "    \n",
    "    Returns\n",
    "    -------\n",
    "    accuracy  : int\n",
    "    \"\"\"\n",
    "\n",
    "    t = 0   # true positive\n",
    "    n = len(results)\n",
    "    for predicted, actual in results:\n",
    "        if predicted == actual:\n",
    "            t += 1\n",
    "\n",
    "    accuracy = t / n\n",
    "\n",
    "    return accuracy"
   ]
  },
  {
   "cell_type": "code",
   "execution_count": 34,
   "metadata": {
    "tags": []
   },
   "outputs": [
    {
     "name": "stdout",
     "output_type": "stream",
     "text": [
      "Naive Bayes with Gaussian accuracy: 0.75\n"
     ]
    }
   ],
   "source": [
    "# Naive Bayes answer\n",
    "\n",
    "train_path = 'data/train.csv'\n",
    "test_path = 'data/test.csv'\n",
    "headers = ['Pose', 'x1', 'x2', 'x3', 'x4', 'x5', 'x6', 'x7', 'x8', 'x9', 'x10', 'x11', 'y1', 'y2', 'y3', 'y4', 'y5', 'y6', 'y7', 'y8', 'y9', 'y10', 'y11']\n",
    "df_train = pd.read_csv(train_path, names=headers)\n",
    "df_test = pd.read_csv(test_path, names=headers)\n",
    "df_train, np_test = preprocess(df_train, df_test)\n",
    "pose_dict = train(df_train)\n",
    "results = predict(np_test, pose_dict)\n",
    "accuracy = evaluate(results)\n",
    "\n",
    "print('Naive Bayes with Gaussian accuracy:', accuracy)"
   ]
  },
  {
   "cell_type": "code",
   "execution_count": 35,
   "metadata": {},
   "outputs": [],
   "source": [
    "def predict_rs(df):\n",
    "    \"\"\"\n",
    "    Notes:\n",
    "    1) print average accuracy for the results\n",
    "    ----------\n",
    "    Parameters\n",
    "    ---------- \n",
    "    df  : dataset \n",
    "    \"\"\"\n",
    "\n",
    "    y = np.array(df['Pose'])\n",
    "    X = np.array(df.drop(columns = ['Pose']))\n",
    "\n",
    "    acc_sum = 0\n",
    "    num = 10\n",
    "    for i in range(num):\n",
    "        rs = random.randint(0, num)\n",
    "        X_train, X_test, y_train, y_test = train_test_split(X, y, test_size=0.2, random_state=rs)\n",
    "\n",
    "        # combine numpy array\n",
    "        y_train = y_train.reshape(len(y_train), 1)\n",
    "        np_train = np.append(y_train, X_train, axis=1)\n",
    "        y_test = y_test.reshape(len(y_test), 1)\n",
    "        np_test =  np.append(y_test, X_test, axis=1)\n",
    "\n",
    "        # convert to df_train and df_test\n",
    "        df_train = pd.DataFrame(np_train, columns=headers)\n",
    "        df_test = pd.DataFrame(np_test, columns=headers)\n",
    "\n",
    "        # preprocess\n",
    "        df_train, np_test = preprocess(df_train, df_test)\n",
    "\n",
    "        # train\n",
    "        pose_dict = train(df_train)\n",
    "\n",
    "        # predict\n",
    "        results = predict(np_test, pose_dict)\n",
    "\n",
    "        # evaluate\n",
    "        accuracy = evaluate(results)\n",
    "        print('Accuracy',i+1, ':', accuracy)\n",
    "        acc_sum += accuracy\n",
    "\n",
    "    acc_ave = acc_sum / num\n",
    "\n",
    "    print('Average Naive Bayes with Gaussian accuracy:', acc_ave)\n",
    "\n",
    "    return"
   ]
  },
  {
   "cell_type": "code",
   "execution_count": 36,
   "metadata": {},
   "outputs": [
    {
     "name": "stdout",
     "output_type": "stream",
     "text": [
      "Accuracy 1 : 0.6845238095238095\n",
      "Accuracy 2 : 0.7065868263473054\n",
      "Accuracy 3 : 0.7869822485207101\n",
      "Accuracy 4 : 0.7857142857142857\n",
      "Accuracy 5 : 0.7869822485207101\n",
      "Accuracy 6 : 0.7235294117647059\n",
      "Accuracy 7 : 0.7337278106508875\n",
      "Accuracy 8 : 0.7337278106508875\n",
      "Accuracy 9 : 0.7633136094674556\n",
      "Accuracy 10 : 0.7337278106508875\n",
      "Average Naive Bayes with Gaussian accuracy: 0.7438815871811645\n"
     ]
    }
   ],
   "source": [
    "# random split to get the average result\n",
    "headers = ['Pose', 'x1', 'x2', 'x3', 'x4', 'x5', 'x6', 'x7', 'x8', 'x9', 'x10', 'x11', 'y1', 'y2', 'y3', 'y4', 'y5', 'y6', 'y7', 'y8', 'y9', 'y10', 'y11']\n",
    "df = pd.read_csv('data/all.csv', names=headers)\n",
    "predict_rs(df)"
   ]
  },
  {
   "cell_type": "markdown",
   "metadata": {},
   "source": [
    "## Questions \n",
    "\n",
    "\n",
    "If you are in a group of 1, you will respond to **two** questions of your choosing.\n",
    "\n",
    "If you are in a group of 2, you will respond to **four** questions of your choosing.\n",
    "\n",
    "A response to a question should take about 100–250 words, and make reference to the data wherever possible.\n",
    "\n",
    "#### NOTE: you may develope codes or functions to help respond to the question here, but your formal answer should be submitted separately as a PDF."
   ]
  },
  {
   "cell_type": "markdown",
   "metadata": {},
   "source": [
    "### Q1\n",
    "Since this is a multiclass classification problem, there are multiple ways to compute precision, recall, and F-score for this classifier. Implement at least two of the methods from the \"Model Evaluation\" lecture and discuss any differences between them. (The implementation should be your own and should not just call a pre-existing function.)"
   ]
  },
  {
   "cell_type": "code",
   "execution_count": 37,
   "metadata": {},
   "outputs": [],
   "source": [
    "def get_con_matrix(results, poses):\n",
    "    \"\"\"\n",
    "    Notes:\n",
    "    1) convert result list to confusion matrix\n",
    "    ----------\n",
    "    Parameters\n",
    "    ---------- \n",
    "    results     : 2d list       eg. [[predicted, result], ...]\n",
    "    poses       : pose list     eg. [pose, ...]\n",
    "\n",
    "    Returns\n",
    "    -------\n",
    "    con_matrix  : confusion matrix for the result\n",
    "    \"\"\"\n",
    "\n",
    "    # create a dict for indexing\n",
    "    d = {key: 0 for key in list(pose_dict.keys())}\n",
    "    i = 0\n",
    "    for key in d.keys():\n",
    "        d[key] += i\n",
    "        i += 1\n",
    "\n",
    "    # create confution matrix\n",
    "    length = len(pose_dict)\n",
    "    con_matrix = np.zeros(shape=[length, length], dtype='int64')\n",
    "    for predicted, actual in results:\n",
    "        i = d[actual]\n",
    "        j = d[predicted]\n",
    "        con_matrix[i][j] += 1\n",
    "\n",
    "    return con_matrix"
   ]
  },
  {
   "cell_type": "code",
   "execution_count": 38,
   "metadata": {},
   "outputs": [],
   "source": [
    "def print_model_eval(con_matrix):\n",
    "    \"\"\"\n",
    "    ----------\n",
    "    Parameters\n",
    "    ---------- \n",
    "    con_matrix  : oonfusion matrix of the results\n",
    "\n",
    "    Returns\n",
    "    -------\n",
    "    print Precision, Recall, F-score for Macro & Micro averaging\n",
    "    \"\"\"\n",
    "\n",
    "    num_rows, num_cols = con_matrix.shape\n",
    "\n",
    "    TPs = con_matrix.diagonal()         # TP\n",
    "    sum_rows = con_matrix.sum(axis=1)   # TP + FP\n",
    "    sum_cols = con_matrix.sum(axis=0)   # TP + FN\n",
    "\n",
    "    mac_ave_pre = sum(TPs / sum_cols) / num_cols\n",
    "    mac_ave_rec = sum(TPs / sum_rows) / num_rows\n",
    "    mac_f = 2 * mac_ave_pre * mac_ave_rec / (mac_ave_pre + mac_ave_rec)\n",
    "\n",
    "    mic_ave_pre = sum(TPs) / sum(sum_cols)\n",
    "    mic_ave_rec = sum(TPs) / sum(sum_rows)\n",
    "    mic_f = 2 * mic_ave_pre * mic_ave_rec / (mic_ave_pre + mic_ave_rec)\n",
    "\n",
    "    print(\"Precision with Macro-averaging   :\", mac_ave_pre)\n",
    "    print(\"Recall with Macro-averaging      :\", mac_ave_rec)\n",
    "    print(\"F-score with Macro-averaging     :\", mac_f)\n",
    "    print(\"Precision with Micro-averaging   :\", mic_ave_pre)\n",
    "    print(\"Recall with Micro-averaging      :\", mic_ave_rec)\n",
    "    print(\"F-score with Micro-averaging     :\", mic_f)\n"
   ]
  },
  {
   "cell_type": "code",
   "execution_count": 39,
   "metadata": {},
   "outputs": [
    {
     "name": "stdout",
     "output_type": "stream",
     "text": [
      "['mountain', 'downwarddog', 'bridge', 'tree', 'childs', 'trianglepose', 'plank', 'warrior2', 'warrior1', 'seatedforwardbend']\n",
      "\n",
      "[[26  0  0  4  0  0  0  0  0  0]\n",
      " [ 0 13  1  0  1  0  0  0  0  0]\n",
      " [ 0  5  6  0  2  0  1  0  0  0]\n",
      " [ 0  0  1  3  0  0  0  0  2  0]\n",
      " [ 0  0  0  0 11  0  0  0  0  1]\n",
      " [ 0  0  0  0  0  4  0  0  0  0]\n",
      " [ 0  0  2  0  0  1  6  0  0  0]\n",
      " [ 0  0  0  1  0  0  0  7  0  0]\n",
      " [ 0  0  0  0  0  0  1  0  4  0]\n",
      " [ 0  1  0  0  3  1  0  0  0  4]]\n",
      "\n",
      "Precision with Macro-averaging   : 0.7189602683178535\n",
      "Recall with Macro-averaging      : 0.736468253968254\n",
      "F-score with Macro-averaging     : 0.7276089555382642\n",
      "Precision with Micro-averaging   : 0.75\n",
      "Recall with Micro-averaging      : 0.75\n",
      "F-score with Micro-averaging     : 0.75\n"
     ]
    }
   ],
   "source": [
    "# Question 1 answer\n",
    "poses = list(pose_dict.keys())\n",
    "print(poses) # show at which index is which pose\n",
    "print()\n",
    "con_matrix = get_con_matrix(results, poses)\n",
    "print(con_matrix)\n",
    "print()\n",
    "print_model_eval(con_matrix)"
   ]
  },
  {
   "cell_type": "markdown",
   "metadata": {},
   "source": [
    "### Q2\n",
    "The Gaussian naıve Bayes classifier assumes that numeric attributes come from a Gaussian distribution. Is this assumption always true for the numeric attributes in this dataset? Identify some cases where the Gaussian assumption is violated and describe any evidence (or lack thereof) that this has some effect on the classifier’s predictions."
   ]
  },
  {
   "cell_type": "code",
   "execution_count": 16,
   "metadata": {},
   "outputs": [],
   "source": [
    "def plot_qq(df, pose, remove=True):\n",
    "    \"\"\"\n",
    "    Notes:\n",
    "    1) plot QQ-plot for each feature for pose input\n",
    "    ----------\n",
    "    Parameters\n",
    "    ---------- \n",
    "    df_train    : train dataframe dataset\n",
    "    pose        : pose list\n",
    "    remove      : remove missing values? \n",
    "    \"\"\"\n",
    "\n",
    "    fig = plt.figure(figsize=(25,5))\n",
    "    gs = fig.add_gridspec(2, 11, hspace=0, wspace=0)\n",
    "    ((ax1, ax2, ax3, ax4, ax5, ax6, ax7, ax8, ax9, ax10, ax11), (ax12, ax13, ax14, ax15, ax16, ax17, ax18, ax19, ax20, ax21, ax22)) = gs.subplots(sharex='col', sharey='row')\n",
    "    fig.suptitle(str(pose) + ' QQ-plot')\n",
    "\n",
    "    i = 0\n",
    "    subplots = ((ax1, ax2, ax3, ax4, ax5, ax6, ax7, ax8, ax9, ax10, ax11), (ax12, ax13, ax14, ax15, ax16, ax17, ax18, ax19, ax20, ax21, ax22))\n",
    "    features = headers[1:]\n",
    "    for axis_plot in subplots:\n",
    "        for plot in axis_plot:\n",
    "            x = np.array(df[df['Pose'] == pose][features[i]])\n",
    "            if remove: # remove missing values\n",
    "                x = x[x != 9999]\n",
    "            mu = x.mean()\n",
    "            stdv = x.std()\n",
    "            z = (x - mu) / stdv\n",
    "            z = np.sort(z)\n",
    "            tq = list()\n",
    "            for j in np.linspace(0, 1, len(x)):\n",
    "                tq.append(scipy.stats.norm.ppf(j))\n",
    "            plot.scatter(tq, z)\n",
    "            i += 1"
   ]
  },
  {
   "cell_type": "code",
   "execution_count": 23,
   "metadata": {},
   "outputs": [
    {
     "data": {
      "image/png": "[encoded data removed]",
      "text/plain": "<Figure size 1800x360 with 22 Axes>"
     },
     "metadata": {
      "needs_background": "light"
     },
     "output_type": "display_data"
    }
   ],
   "source": [
    "# Question 2 answer\n",
    "\n",
    "all_path = 'data/all.csv'\n",
    "headers = ['Pose', 'x1', 'x2', 'x3', 'x4', 'x5', 'x6', 'x7', 'x8', 'x9', 'x10', 'x11', 'y1', 'y2', 'y3', 'y4', 'y5', 'y6', 'y7', 'y8', 'y9', 'y10', 'y11']\n",
    "df_all = pd.read_csv(all_path, names=headers)\n",
    "pose = 'tree'\n",
    "plot_qq(df_all, pose, remove=True)"
   ]
  },
  {
   "cell_type": "markdown",
   "metadata": {},
   "source": [
    "### Q3\n",
    "Implement a kernel density estimate (KDE) naive Bayes classifier and compare its performance to the Gaussian naive Bayes classifier. Recall that KDE has kernel bandwidth as a free parameter -- you can choose an arbitrary value for this, but a value in the range 5-25 is recommended. Discuss any differences you observe between the Gaussian and KDE naive Bayes classifiers. (As with the Gaussian naive Bayes, this KDE naive Bayes implementation should be your own and should not just call a pre-existing function.)"
   ]
  },
  {
   "cell_type": "code",
   "execution_count": 41,
   "metadata": {
    "collapsed": true
   },
   "outputs": [],
   "source": [
    "def predict_kde(np_test, df_train, SIGMA=5):\n",
    "    \"\"\"\n",
    "    Notes:\n",
    "    1) do not calculate phi for missing values (ignore them)\n",
    "    ----------\n",
    "    Parameters\n",
    "    ---------- \n",
    "    np_test     : 2d list       \n",
    "                    eg. [[predicted, result], ...]\n",
    "    df_train    : train dataframe dataset\n",
    "    SIGMA       : kernel bandwidth (default 5)\n",
    "\n",
    "    Returns\n",
    "    -------\n",
    "    results     : 2d list       \n",
    "                    eg. [[predicted, result], ...]\n",
    "    \"\"\"\n",
    "\n",
    "\n",
    "    # get all concepts(poses) as a list\n",
    "    poses = list(df_train['Pose'].value_counts().index)\n",
    "\n",
    "    # calculate prior prob and convert train data into np array for each pose\n",
    "    d = dict()\n",
    "    for pose in poses:\n",
    "        pb_c = df_train.groupby('Pose').size()[pose] / len(df_train)\n",
    "        d[pose] = np.array([pb_c, df_train[df_train['Pose'] == pose].iloc[:,1:].to_numpy()], dtype=object)\n",
    "\n",
    "    results = list()\n",
    "    for instance in np_test:\n",
    "            # prob_dict to store all the probabilities (log form) for comparison later\n",
    "            prob_dict = dict()\n",
    "            features = instance[1:] # remove concept\n",
    "            for pose in poses:\n",
    "                prob_sum = 0\n",
    "                pb_c = d[pose][0] # get prior probability for pose j\n",
    "                prob_sum += np.log(pb_c)\n",
    "                pose_dp = d[pose][1] # get all train data point for pose j\n",
    "                feat_len = len(features)\n",
    "                for i in range(feat_len):\n",
    "                    dpn_array = pose_dp[:,i] # get all rows of pose i in train set\n",
    "                    dpn_array = dpn_array[~np.isnan(dpn_array)] # avoid missing values in train set\n",
    "                    dp_test = features[i]    # datapoint of pose i in test set\n",
    "                    phi = 0\n",
    "                    for dpi in dpn_array:\n",
    "                        phi += calc_phi(dp_test, dpi, SIGMA)\n",
    "                    phi = phi / len(dpn_array)\n",
    "                    prob_sum += np.log(phi)\n",
    "\n",
    "                prob_dict[pose] = prob_sum\n",
    "\n",
    "            predicted = max(prob_dict, key = prob_dict.get) # choose the highest value as predicted result\n",
    "            actual = instance[0]\n",
    "            results.append([predicted, actual])\n",
    "    return results"
   ]
  },
  {
   "cell_type": "code",
   "execution_count": 42,
   "metadata": {
    "tags": []
   },
   "outputs": [
    {
     "name": "stdout",
     "output_type": "stream",
     "text": [
      "Naive Bayes with KDE accuracy: 0.7946428571428571\n"
     ]
    }
   ],
   "source": [
    "# Question 3 answer\n",
    "\n",
    "train_path = 'data/train.csv'\n",
    "test_path = 'data/test.csv'\n",
    "headers = ['Pose', 'x1', 'x2', 'x3', 'x4', 'x5', 'x6', 'x7', 'x8', 'x9', 'x10', 'x11', 'y1', 'y2', 'y3', 'y4', 'y5', 'y6', 'y7', 'y8', 'y9', 'y10', 'y11']\n",
    "df_train = pd.read_csv(train_path, names=headers)\n",
    "df_test = pd.read_csv(test_path, names=headers)\n",
    "df_train, np_test = preprocess(df_train, df_test)\n",
    "results_kde = predict_kde(np_test, df_train, 5)\n",
    "accuracy = evaluate(results_kde)\n",
    "\n",
    "print('Naive Bayes with KDE accuracy:', accuracy)"
   ]
  },
  {
   "cell_type": "markdown",
   "metadata": {},
   "source": [
    "### Q4\n",
    "Instead of using an arbitrary kernel bandwidth for the KDE naive Bayes classifier, use random hold-out or cross-validation to choose the kernel bandwidth. Discuss how this changes the model performance compared to using an arbitrary kernel bandwidth."
   ]
  },
  {
   "cell_type": "code",
   "execution_count": 19,
   "metadata": {
    "collapsed": true
   },
   "outputs": [],
   "source": [
    "def predict_kde_rs(df):\n",
    "    \"\"\"\n",
    "    Notes:\n",
    "    1) print average accuracy for the results\n",
    "    ----------\n",
    "    Parameters\n",
    "    ---------- \n",
    "    df  : dataset \n",
    "    \"\"\"\n",
    "\n",
    "    y = np.array(df['Pose'])\n",
    "    X = np.array(df.drop(columns = ['Pose']))\n",
    "\n",
    "    sigma_result = dict()\n",
    "    for sigma in range(5,26):\n",
    "        accuracy = []\n",
    "        for i in range (0,5):\n",
    "            rs = random.randint(0,25)\n",
    "            X_train,X_test,y_train,y_test = train_test_split(X, y, test_size= 0.5, random_state=rs)\n",
    "\n",
    "            # reshape so it can be converted to df\n",
    "            y_train = y_train.reshape(len(y_train), 1)\n",
    "            np_train = np.append(y_train, X_train, axis=1)\n",
    "            y_test = y_test.reshape(len(y_test), 1)\n",
    "            np_test =  np.append(y_test, X_test, axis=1)\n",
    "\n",
    "            # convert to df_train and df_test\n",
    "            df_train = pd.DataFrame(np_train, columns=headers)\n",
    "            df_test = pd.DataFrame(np_test, columns=headers)\n",
    "            df_train, np_test = preprocess(df_train, df_test)\n",
    "\n",
    "            # predict\n",
    "            results_kde = predict_kde(np_test,df_train, sigma)\n",
    "            accuracy.append(evaluate(results_kde))\n",
    "\n",
    "        sigma_result[sigma] = np.array(accuracy).mean()\n",
    "        print('sigma =', sigma, ':', 'average accuracy:', np.array(accuracy).mean())\n",
    "\n",
    "    return"
   ]
  },
  {
   "cell_type": "code",
   "execution_count": 20,
   "metadata": {},
   "outputs": [
    {
     "name": "stdout",
     "output_type": "stream",
     "text": [
      "sigma = 5 : average accuracy: 0.7892099279495817\n",
      "sigma = 6 : average accuracy: 0.793881364654374\n",
      "sigma = 7 : average accuracy: 0.7949240728220515\n",
      "sigma = 8 : average accuracy: 0.80388513125556\n",
      "sigma = 9 : average accuracy: 0.8003845216963505\n",
      "sigma = 10 : average accuracy: 0.7948618093702718\n",
      "sigma = 11 : average accuracy: 0.793020042330737\n",
      "sigma = 12 : average accuracy: 0.8081434190709432\n",
      "sigma = 13 : average accuracy: 0.7986893349735542\n",
      "sigma = 14 : average accuracy: 0.8098229388302505\n",
      "sigma = 15 : average accuracy: 0.8014028089397007\n",
      "sigma = 16 : average accuracy: 0.79128992862985\n",
      "sigma = 17 : average accuracy: 0.7877122137624006\n",
      "sigma = 18 : average accuracy: 0.7915364798803839\n",
      "sigma = 19 : average accuracy: 0.7959013697488118\n",
      "sigma = 20 : average accuracy: 0.7887232705884433\n",
      "sigma = 21 : average accuracy: 0.7843107035068744\n",
      "sigma = 22 : average accuracy: 0.7750832658766635\n",
      "sigma = 23 : average accuracy: 0.788642614140757\n",
      "sigma = 24 : average accuracy: 0.7893502191730225\n",
      "sigma = 25 : average accuracy: 0.790613504379633\n"
     ]
    }
   ],
   "source": [
    "# Random hold-out to choose the best kernel bandwidth\n",
    "headers = ['Pose', 'x1', 'x2', 'x3', 'x4', 'x5', 'x6', 'x7', 'x8', 'x9', 'x10', 'x11', 'y1', 'y2', 'y3', 'y4', 'y5', 'y6', 'y7', 'y8', 'y9', 'y10', 'y11']\n",
    "df = pd.read_csv('data/all.csv', names=headers) # data.csv combined train & test data\n",
    "predict_kde_rs(df)"
   ]
  },
  {
   "cell_type": "markdown",
   "metadata": {},
   "source": [
    "### Q5\n",
    "Naive Bayes ignores missing values, but in pose recognition tasks the missing values can be informative. Missing values indicate that some part of the body was obscured and sometimes this is relevant to the pose (e.g., holding one hand behind the back). Are missing values useful for this task? Implement a method that incorporates information about missing values and demonstrate whether it changes the classification results."
   ]
  },
  {
   "cell_type": "code",
   "execution_count": null,
   "metadata": {
    "collapsed": true
   },
   "outputs": [],
   "source": []
  },
  {
   "cell_type": "markdown",
   "metadata": {},
   "source": [
    "### Q6\n",
    "Engineer your own pose features from the provided keypoints. Instead of using the (x,y) positions of keypoints, you might consider the angles of the limbs or body, or the distances between pairs of keypoints. How does a naive Bayes classifier based on your engineered features compare to the classifier using (x,y) values? Please note that we are interested in explainable features for pose recognition, so simply putting the (x,y) values in a neural network or similar to get an arbitrary embedding will not receive full credit for this question. You should be able to explain the rationale behind your proposed features. Also, don't forget the conditional independence assumption of naive Bayes when proposing new features -- a large set of highly-correlated features may not work well."
   ]
  },
  {
   "cell_type": "code",
   "execution_count": null,
   "metadata": {
    "collapsed": true
   },
   "outputs": [],
   "source": []
  }
 ],
 "metadata": {
  "kernelspec": {
   "display_name": "Python 3.7.10 64-bit ('base': conda)",
   "name": "python3710jvsc74a57bd0dce69896fdb445434427c12e791455610f9ef8e6bb07ea975426634cd43b3db3"
  },
  "language_info": {
   "codemirror_mode": {
    "name": "ipython",
    "version": 3
   },
   "file_extension": ".py",
   "mimetype": "text/x-python",
   "name": "python",
   "nbconvert_exporter": "python",
   "pygments_lexer": "ipython3",
   "version": "3.7.10"
  }
 },
 "nbformat": 4,
 "nbformat_minor": 4
}