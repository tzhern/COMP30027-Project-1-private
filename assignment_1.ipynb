{
 "cells": [
  {
   "cell_type": "markdown",
   "metadata": {},
   "source": [
    "###### ### The University of Melbourne, School of Computing and Information Systems\n",
    "# COMP30027 Machine Learning, 2021 Semester 1\n",
    "\n",
    "## Assignment 1: Pose classification with naive Bayes\n",
    "\n",
    "###### Submission deadline: 7 pm, Tuesday 6 Apr 2021"
   ]
  },
  {
   "cell_type": "markdown",
   "metadata": {},
   "source": [
    "**Student ID(s):**     `PLEASE ENTER YOUR ID(S) HERE`\n"
   ]
  },
  {
   "cell_type": "markdown",
   "metadata": {},
   "source": [
    "This iPython notebook is a template which you will use for your Assignment 1 submission.\n",
    "\n",
    "Marking will be applied on the four functions that are defined in this notebook, and to your responses to the questions at the end of this notebook (Submitted in a separate PDF file).\n",
    "\n",
    "**NOTE: YOU SHOULD ADD YOUR RESULTS, DIAGRAMS AND IMAGES FROM YOUR OBSERVATIONS IN THIS FILE TO YOUR REPORT (the PDF file).**\n",
    "\n",
    "You may change the prototypes of these functions, and you may write other functions, according to your requirements. We would appreciate it if the required functions were prominent/easy to find.\n",
    "\n",
    "**Adding proper comments to your code is MANDATORY. **"
   ]
  },
  {
   "cell_type": "code",
   "execution_count": 32,
   "metadata": {},
   "outputs": [],
   "source": [
    "import pandas as pd\n",
    "import numpy as np\n",
    "import matplotlib.pyplot as plt"
   ]
  },
  {
   "cell_type": "code",
   "execution_count": 33,
   "metadata": {
    "collapsed": true
   },
   "outputs": [],
   "source": [
    "# This function should prepare the data by reading it from a file and converting it into a useful format for training and testing\n",
    "\n",
    "def preprocess(train_path, test_path):\n",
    "    \"\"\"\n",
    "    Notes:\n",
    "    1) preprocessing train dataset using mean\n",
    "    2) do not preprocess test dataset\n",
    "    ----------\n",
    "    Parameters\n",
    "    ---------- \n",
    "    train_path  : path to train csv dataset\n",
    "    test_path   : path to test csv dataset\n",
    "    \n",
    "    Returns\n",
    "    -------\n",
    "    df_train    : train df dataset\n",
    "    np_test     : test np array dataset\n",
    "    \"\"\"\n",
    "    \n",
    "    headers = ['Pose', 'x1', 'x2', 'x3', 'x4', 'x5', 'x6', 'x7', 'x8', 'x9', 'x10', 'x11', 'y1', 'y2', 'y3', 'y4', 'y5', 'y6', 'y7', 'y8', 'y9', 'y10', 'y11']\n",
    "    df_train = pd.read_csv(train_path, names=headers)\n",
    "    df_test = pd.read_csv(test_path, names=headers)\n",
    "\n",
    "    # replace 9999 with NaN for further processing\n",
    "    df_train = df_train.replace([9999], np.nan)\n",
    "    df_train = df_train.dropna(subset = headers[1:], how = 'all')\n",
    "\n",
    "    '''Dealing with NaN values'''\n",
    "    # For train data\n",
    "    # filling missing values by mean in each group\n",
    "    f = lambda x: x.mean() if np.issubdtype(x.dtype, np.number) else x.mode().iloc[0]\n",
    "    df_train = df_train.fillna(df_train.groupby('Pose').transform(f))\n",
    "\n",
    "    # For test data\n",
    "    # convert df to np array\n",
    "    np_test = np.array(df_test)\n",
    "\n",
    "    return df_train, np_test\n"
   ]
  },
  {
   "cell_type": "code",
   "execution_count": 5,
   "metadata": {
    "collapsed": true
   },
   "outputs": [],
   "source": [
    "# This function should calculate prior probabilities and likelihoods from the training data and usingthem to build a naive Bayes model\n",
    "\n",
    "def train(df_train):\n",
    "    \"\"\"\n",
    "    Notes:\n",
    "    1) calculate statistics for train dataset\n",
    "    ----------\n",
    "    Parameters\n",
    "    ---------- \n",
    "    df_train  : train datafram dataset\n",
    "    \n",
    "    Returns\n",
    "    -------\n",
    "    pose_dict : dict with prior probability for every pose, \n",
    "                with mean and std for every xi & yi\n",
    "                    eg. {pose: [pb_x, [[x1 mu, ..., y11 mu], [x1 sigma, ..., y11 sigma]]], ...}\n",
    "    \"\"\"\n",
    "\n",
    "    # get all concepts(poses) as a list\n",
    "    poses = list(df_train['Pose'].value_counts().index)\n",
    "\n",
    "    # calculate statistics in training dataset\n",
    "    pose_dict = dict()\n",
    "    for pose in poses:\n",
    "        pb_c = df_train.groupby('Pose').size()[pose] / len(df_train) # get prior probabilities\n",
    "        pose_dict[pose] = np.array([pb_c, df_train[df_train['Pose'] == pose].describe().iloc[[1,2]].values], dtype=object) # get mean & stdv for all x and y (from x1y1 to x11y11)\n",
    "\n",
    "    return pose_dict"
   ]
  },
  {
   "cell_type": "code",
   "execution_count": 6,
   "metadata": {
    "collapsed": true
   },
   "outputs": [],
   "source": [
    "# This function should predict classes for new items in a test dataset (for the purposes of this assignment, you can re-use the training data as a test set)\n",
    "\n",
    "def calc_phi(x, mu, sigma):\n",
    "    \"\"\"\n",
    "    Notes:\n",
    "    1) get ϕ𝜎(x − mu)\n",
    "    ----------\n",
    "    Parameters\n",
    "    ---------- \n",
    "    x       : observed x for class i\n",
    "    mu      : mean for class i\n",
    "    sigma   : standard deviation for class i\n",
    "    \n",
    "    Returns\n",
    "    -------\n",
    "    phi     : probability of observing value x from a variable with μ and σ\n",
    "    \"\"\"\n",
    "\n",
    "    # return the likelihood of feature x_i in class c\n",
    "    phi = 1 / (sigma * np.sqrt(2 * np.pi)) * (np.e ** (- 1 / 2 * (((x - mu) / sigma) ** 2)))\n",
    "\n",
    "    # smoothing (with epsilon 0.0000001)\n",
    "    if phi == 0:\n",
    "        phi = 0.0000001\n",
    "\n",
    "    return phi\n",
    "\n",
    "\n",
    "def predict(np_test, pose_dict):\n",
    "    \"\"\"\n",
    "    Notes:\n",
    "    1) get ϕ𝜎(x − mu)\n",
    "    ----------\n",
    "    Parameters\n",
    "    ---------- \n",
    "    np_test     : test dataset                      \n",
    "                    eg. [[pose, x1, x2, ..., y10, y11], ...]\n",
    "    pose_dict   : prior probability for each pose   \n",
    "                    eg. {pose: [pb_x, [[x1 mu, ..., y11 mu], [x1 sigma, ..., y11 sigma]]], ...}\n",
    "    \n",
    "    Returns\n",
    "    -------\n",
    "    results     : probability of observing value x from a variable with μ and σ\n",
    "    \"\"\"\n",
    "\n",
    "    results = list()\n",
    "    for instance in np_test:\n",
    "        # prob_dict to store all the probabilities (log form) for comparison later\n",
    "        prob_dict = dict()\n",
    "        features = instance[1:] # remove concept\n",
    "        for pose in pose_dict:\n",
    "            prob = 0\n",
    "            pb_c = pose_dict[pose][0] # Prior probability of class c_j\n",
    "            prob += np.log(pb_c)\n",
    "            for i in range(len(features)):\n",
    "                x = features[i] # data x of feature x_i\n",
    "                mu = pose_dict[pose][1][0][i] # mean of feature x_i\n",
    "                sigma = pose_dict[pose][1][1][i] # stf of feature x_i\n",
    "                pb_x_c = calc_phi(x, mu, sigma)\n",
    "                prob += np.log(pb_x_c)\n",
    "            prob_dict[pose] = prob\n",
    "        predicted = max(prob_dict, key = prob_dict.get) # choose the highest value as predicted result\n",
    "        actual = instance[0]\n",
    "        results.append([predicted, actual])\n",
    "        \n",
    "\n",
    "    return results"
   ]
  },
  {
   "cell_type": "code",
   "execution_count": 7,
   "metadata": {
    "collapsed": true
   },
   "outputs": [],
   "source": [
    "# This function should evaliate the prediction performance by comparing your model’s class outputs to ground truth labels\n",
    "\n",
    "def evaluate(results):\n",
    "    \"\"\"\n",
    "    Notes:\n",
    "    1) get accuracy for the results\n",
    "    ----------\n",
    "    Parameters\n",
    "    ---------- \n",
    "    results     : 2d list       eg. [[predicted, result], ...]\n",
    "    \n",
    "    Returns\n",
    "    -------\n",
    "    accuracy  : int\n",
    "    \"\"\"\n",
    "\n",
    "    t = 0   # true positive\n",
    "    n = len(results)\n",
    "    for predicted, actual in results:\n",
    "        if predicted == actual:\n",
    "            t += 1\n",
    "\n",
    "    accuracy = t / n\n",
    "\n",
    "    return accuracy\n",
    "\n",
    "\n",
    "def get_con_matrix(results, poses):\n",
    "    \"\"\"\n",
    "    Notes:\n",
    "    1) convert result list to confusion matrix\n",
    "    ----------\n",
    "    Parameters\n",
    "    ---------- \n",
    "    results     : 2d list       eg. [[predicted, result], ...]\n",
    "    poses       : pose list     eg. [pose, ...]\n",
    "\n",
    "    Returns\n",
    "    -------\n",
    "    con_matrix  : confusion matrix for the result\n",
    "    \"\"\"\n",
    "\n",
    "    # create a dict for indexing\n",
    "    d = {key: 0 for key in list(pose_dict.keys())}\n",
    "    i = 0\n",
    "    for key in d.keys():\n",
    "        d[key] += i\n",
    "        i += 1\n",
    "\n",
    "    # create confution matrix\n",
    "    length = len(pose_dict)\n",
    "    con_matrix = np.zeros(shape=[length, length], dtype='int64')\n",
    "    for predicted, actual in results:\n",
    "        i = d[actual]\n",
    "        j = d[predicted]\n",
    "        con_matrix[i][j] += 1\n",
    "\n",
    "    return con_matrix"
   ]
  },
  {
   "cell_type": "code",
   "execution_count": 8,
   "metadata": {},
   "outputs": [
    {
     "name": "stdout",
     "output_type": "stream",
     "text": [
      "accuracy: 0.7327586206896551\n",
      "\n",
      "['mountain', 'downwarddog', 'bridge', 'tree', 'childs', 'trianglepose', 'plank', 'warrior2', 'warrior1', 'seatedforwardbend']\n",
      "[[26  0  0  4  0  0  0  0  0  0]\n",
      " [ 3 13  0  0  1  0  1  0  0  0]\n",
      " [ 0  2  5  0  2  0  3  0  0  2]\n",
      " [ 0  0  0  4  0  0  0  0  2  0]\n",
      " [ 1  0  0  0 11  0  0  0  0  1]\n",
      " [ 0  0  0  0  0  4  0  0  0  0]\n",
      " [ 0  0  0  0  0  1  7  0  0  1]\n",
      " [ 0  0  0  1  0  0  0  7  0  0]\n",
      " [ 0  0  0  0  0  0  1  0  4  0]\n",
      " [ 0  0  0  0  2  1  2  0  0  4]]\n"
     ]
    }
   ],
   "source": [
    "# Naive Bayes answer\n",
    "\n",
    "train_path = 'data/train.csv'\n",
    "test_path = 'data/test.csv'\n",
    "df_train, np_test = preprocess(train_path, test_path)\n",
    "pose_dict = train(df_train)\n",
    "results = predict(np_test, pose_dict)\n",
    "accuracy = evaluate(results)\n",
    "poses = list(pose_dict.keys())\n",
    "con_matrix = get_con_matrix(results, poses)\n",
    "\n",
    "print('accuracy:', accuracy)\n",
    "print()\n",
    "print(poses) # show at which index is which pose\n",
    "print(con_matrix)\n"
   ]
  },
  {
   "cell_type": "markdown",
   "metadata": {},
   "source": [
    "## Questions \n",
    "\n",
    "\n",
    "If you are in a group of 1, you will respond to **two** questions of your choosing.\n",
    "\n",
    "If you are in a group of 2, you will respond to **four** questions of your choosing.\n",
    "\n",
    "A response to a question should take about 100–250 words, and make reference to the data wherever possible.\n",
    "\n",
    "#### NOTE: you may develope codes or functions to help respond to the question here, but your formal answer should be submitted separately as a PDF."
   ]
  },
  {
   "cell_type": "markdown",
   "metadata": {},
   "source": [
    "### Q1\n",
    "Since this is a multiclass classification problem, there are multiple ways to compute precision, recall, and F-score for this classifier. Implement at least two of the methods from the \"Model Evaluation\" lecture and discuss any differences between them. (The implementation should be your own and should not just call a pre-existing function.)"
   ]
  },
  {
   "cell_type": "code",
   "execution_count": 11,
   "metadata": {
    "collapsed": true
   },
   "outputs": [],
   "source": [
    "def print_model_eval(results, poses):\n",
    "    \"\"\"\n",
    "    ----------\n",
    "    Parameters\n",
    "    ---------- \n",
    "    results     : 2d list       eg. [[predicted, result], ...]\n",
    "    pose_dict   :\n",
    "\n",
    "    Returns\n",
    "    -------\n",
    "    print Precision, Recall for Macro & Micro averaging\n",
    "    \"\"\"\n",
    "\n",
    "    # create a dict for indexing\n",
    "    d = {key: 0 for key in list(pose_dict.keys())}\n",
    "    i = 0\n",
    "    for key in d.keys():\n",
    "        d[key] += i\n",
    "        i += 1\n",
    "\n",
    "    # calculate confusion matrix\n",
    "    pose_num = len(pose_dict)\n",
    "    con_matrix = np.zeros(shape=[pose_num, pose_num], dtype='int64')\n",
    "    for predicted, actual in results:\n",
    "        i = d[actual]\n",
    "        j = d[predicted]\n",
    "        con_matrix[i][j] += 1\n",
    "        \n",
    "    TP = np.zeros((1,pose_num))\n",
    "    FP = np.zeros((1,pose_num))\n",
    "    FN = np.zeros((1,pose_num))\n",
    "    precision_array = np.zeros((1,pose_num))\n",
    "    recall_array = np.zeros((1,pose_num))\n",
    "\n",
    "    for i in range(pose_num):\n",
    "        tp = con_matrix[i][i]                                               #tp value\n",
    "        fp = sum(con_matrix[i][j] for j in range(pose_num) if not j == i)   #fp value\n",
    "        fn = sum(con_matrix[j][i] for j in range(pose_num) if not j == i)   #fn value\n",
    "        # Macro-averaging\n",
    "        TP[0][i]=tp\n",
    "        FP[0][i]=fp\n",
    "        FN[0][i]=fn\n",
    "        precision_array[0][i] = tp/(tp+fp) if not tp +fp ==0 else 0          \n",
    "        recall_array[0][i] = tp/(tp+fn) if not tp +fn ==0 else 0\n",
    "\n",
    "    precision_macro = precision_array.mean()\n",
    "    recall_macro = recall_array.mean()\n",
    "\n",
    "    # Micro-averaging\n",
    "    precision_micro  = TP.sum()/(TP.sum()+FP.sum())\n",
    "    recall_micro = TP.sum()/(TP.sum()+FN.sum())\n",
    "\n",
    "    print(\"Precision with Macro-averaging   :\",precision_macro.mean())\n",
    "    print(\"Recall with Macro-averaging      :\",recall_macro.mean())\n",
    "    print(\"F-score with Macro-averaging     :\" , 2*precision_macro*recall_macro/(precision_macro+recall_macro))\n",
    "    print(\"Precision with Micro-averagin    :\", precision_micro)\n",
    "    print(\"Recall with Micro-averagin       :\", recall_micro)\n",
    "    print(\"F-score with Micro-averaging     :\" , 2*precision_micro*recall_micro/(precision_micro+recall_micro))"
   ]
  },
  {
   "cell_type": "code",
   "execution_count": 56,
   "metadata": {},
   "outputs": [],
   "source": [
    "def print_model_eval(con_matrix):\n",
    "    \"\"\"\n",
    "    ----------\n",
    "    Parameters\n",
    "    ---------- \n",
    "    con_matrix  : oonfusion matrix of the results\n",
    "\n",
    "    Returns\n",
    "    -------\n",
    "    print Precision, Recall, F-score for Macro & Micro averaging\n",
    "    \"\"\"\n",
    "\n",
    "    num_rows, num_cols = con_matrix.shape\n",
    "\n",
    "    TPs = con_matrix.diagonal()         # TP\n",
    "    sum_rows = con_matrix.sum(axis=1)   # TP + FP\n",
    "    sum_cols = con_matrix.sum(axis=0)   # TP + FN\n",
    "\n",
    "    mac_ave_pre = sum(TPs / sum_cols) / num_cols\n",
    "    mac_ave_rec = sum(TPs / sum_rows) / num_rows\n",
    "    mac_f = 2 * mac_ave_pre * mac_ave_rec / (mac_ave_pre + mac_ave_rec)\n",
    "\n",
    "    mic_ave_pre = sum(TPs) / sum(sum_cols)\n",
    "    mic_ave_rec = sum(TPs) / sum(sum_rows)\n",
    "    mic_f = 2 * mic_ave_pre * mic_ave_rec / (mic_ave_pre + mic_ave_rec)\n",
    "\n",
    "    print(\"Precision with Macro-averaging   :\", mac_ave_pre)\n",
    "    print(\"Recall with Macro-averaging      :\", mac_ave_rec)\n",
    "    print(\"F-score with Macro-averaging     :\", mac_f)\n",
    "    print(\"Precision with Micro-averaging   :\", mic_ave_pre)\n",
    "    print(\"Recall with Micro-averaging      :\", mic_ave_rec)\n",
    "    print(\"F-score with Micro-averaging     :\", mic_f)\n"
   ]
  },
  {
   "cell_type": "code",
   "execution_count": 58,
   "metadata": {},
   "outputs": [
    {
     "name": "stdout",
     "output_type": "stream",
     "text": [
      "Precision with Macro-averaging   : 0.7198611111111112\n",
      "Recall with Macro-averaging      : 0.7356074481074482\n",
      "F-score with Macro-averaging     : 0.7276491018405015\n",
      "Precision with Micro-averaging   : 0.7327586206896551\n",
      "Recall with Micro-averaging      : 0.7327586206896551\n",
      "F-score with Micro-averaging     : 0.732758620689655\n"
     ]
    }
   ],
   "source": [
    "# Question 1 answer\n",
    "\n",
    "print_model_eval(con_matrix)"
   ]
  },
  {
   "cell_type": "markdown",
   "metadata": {},
   "source": [
    "### Q2\n",
    "The Gaussian naıve Bayes classifier assumes that numeric attributes come from a Gaussian distribution. Is this assumption always true for the numeric attributes in this dataset? Identify some cases where the Gaussian assumption is violated and describe any evidence (or lack thereof) that this has some effect on the classifier’s predictions."
   ]
  },
  {
   "cell_type": "code",
   "execution_count": 25,
   "metadata": {
    "collapsed": true,
    "tags": []
   },
   "outputs": [
    {
     "data": {
      "text/plain": "<AxesSubplot:>"
     },
     "execution_count": 25,
     "metadata": {},
     "output_type": "execute_result"
    },
    {
     "data": {
      "image/png": "[encoded data removed]",
      "text/plain": "<Figure size 432x288 with 1 Axes>"
     },
     "metadata": {
      "needs_background": "light"
     },
     "output_type": "display_data"
    }
   ],
   "source": [
    "headers = ['Pose', 'x1', 'x2', 'x3', 'x4', 'x5', 'x6', 'x7', 'x8', 'x9', 'x10', 'x11', 'y1', 'y2', 'y3', 'y4', 'y5', 'y6', 'y7', 'y8', 'y9', 'y10', 'y11']\n",
    "df_train = pd.read_csv(train_path, names=headers)\n",
    "df_test = pd.read_csv(test_path, names=headers)\n",
    "values = dict()\n",
    "for pose in set(df_train['Pose']):\n",
    "    values[pose] =list([] for x in range(22))\n",
    "for instance in range(len(df_train)):\n",
    "    for i in range(0,22):\n",
    "        value = df_train.iloc[instance,i+1]\n",
    "        if not value==9999:\n",
    "            values[df_train.iloc[instance,0]][i].append(value)\n",
    "pd.Series(values['downwarddog'][10]).hist()"
   ]
  },
  {
   "cell_type": "code",
   "execution_count": 96,
   "metadata": {},
   "outputs": [
    {
     "data": {
      "image/png": "[encoded data removed]",
      "text/plain": "<Figure size 1800x360 with 22 Axes>"
     },
     "metadata": {
      "needs_background": "light"
     },
     "output_type": "display_data"
    }
   ],
   "source": [
    "\n",
    "def plot_qq(train_path, pose):\n",
    "    headers = ['Pose', 'x1', 'x2', 'x3', 'x4', 'x5', 'x6', 'x7', 'x8', 'x9', 'x10', 'x11', 'y1', 'y2', 'y3', 'y4', 'y5', 'y6', 'y7', 'y8', 'y9', 'y10', 'y11']\n",
    "    df_train = pd.read_csv(train_path, names=headers)\n",
    "\n",
    "    fig = plt.figure(figsize=(25,5))\n",
    "    gs = fig.add_gridspec(2, 11, hspace=0, wspace=0)\n",
    "    ((ax1, ax2, ax3, ax4, ax5, ax6, ax7, ax8, ax9, ax10, ax11), (ax12, ax13, ax14, ax15, ax16, ax17, ax18, ax19, ax20, ax21, ax22)) = gs.subplots(sharex='col', sharey='row')\n",
    "    fig.suptitle('QQ-plot')\n",
    "\n",
    "    i = 0\n",
    "    subplots = ((ax1, ax2, ax3, ax4, ax5, ax6, ax7, ax8, ax9, ax10, ax11), (ax12, ax13, ax14, ax15, ax16, ax17, ax18, ax19, ax20, ax21, ax22))\n",
    "    features = headers[1:]\n",
    "    for axis_plot in subplots:\n",
    "        for plot in axis_plot:\n",
    "            x = np.array(df_train[df_train['Pose'] == pose][features[i]])\n",
    "            mu = x.mean()\n",
    "            stdv = x.std()\n",
    "            z = (x - mu) / stdv\n",
    "            z = np.sort(z)\n",
    "            tq = list()\n",
    "            for j in np.linspace(0, 1, len(x)):\n",
    "                tq.append(scipy.stats.norm.ppf(j))\n",
    "            plot.scatter(tq, z)\n",
    "            i += 1\n",
    "\n",
    "\n",
    "train_path = 'data/train.csv'\n",
    "pose = 'mountain'\n",
    "plot_qq(train_path, pose)"
   ]
  },
  {
   "cell_type": "code",
   "execution_count": 80,
   "metadata": {},
   "outputs": [
    {
     "data": {
      "text/plain": "<matplotlib.collections.PathCollection at 0x7ff40eae2050>"
     },
     "execution_count": 80,
     "metadata": {},
     "output_type": "execute_result"
    },
    {
     "data": {
      "image/png": "[encoded data removed]",
      "text/plain": "<Figure size 432x288 with 1 Axes>"
     },
     "metadata": {
      "needs_background": "light"
     },
     "output_type": "display_data"
    }
   ],
   "source": [
    "import scipy.stats\n",
    "\n",
    "headers = ['Pose', 'x1', 'x2', 'x3', 'x4', 'x5', 'x6', 'x7', 'x8', 'x9', 'x10', 'x11', 'y1', 'y2', 'y3', 'y4', 'y5', 'y6', 'y7', 'y8', 'y9', 'y10', 'y11']\n",
    "train_path = 'data/train.csv'\n",
    "df_train = pd.read_csv(train_path, names=headers)\n",
    "x = np.array(df_train[df_train['Pose'] == 'mountain']['x1'])\n",
    "mu = x.mean()\n",
    "stdv = x.std()\n",
    "z = (x - mu) / stdv\n",
    "z = np.sort(z)\n",
    "\n",
    "tq = list()\n",
    "for i in np.linspace(0, 1, len(x)):\n",
    "    tq.append(scipy.stats.norm.ppf(i))\n",
    "\n",
    "plt.scatter(tq, z)\n",
    "\n",
    "\n"
   ]
  },
  {
   "cell_type": "markdown",
   "metadata": {},
   "source": [
    "### Q3\n",
    "Implement a kernel density estimate (KDE) naive Bayes classifier and compare its performance to the Gaussian naive Bayes classifier. Recall that KDE has kernel bandwidth as a free parameter -- you can choose an arbitrary value for this, but a value in the range 5-25 is recommended. Discuss any differences you observe between the Gaussian and KDE naive Bayes classifiers. (As with the Gaussian naive Bayes, this KDE naive Bayes implementation should be your own and should not just call a pre-existing function.)"
   ]
  },
  {
   "cell_type": "code",
   "execution_count": 26,
   "metadata": {
    "collapsed": true
   },
   "outputs": [],
   "source": [
    "def predict_kde(np_test, df_train, SIGMA=5):\n",
    "    \"\"\"\n",
    "    ----------\n",
    "    Parameters\n",
    "    ---------- \n",
    "    np_test     : 2d list       \n",
    "                    eg. [[predicted, result], ...]\n",
    "    df_train    : train dataframe dataset\n",
    "    SIGMA       : kernel bandwidth (default 5)\n",
    "\n",
    "    Returns\n",
    "    -------\n",
    "    results     : 2d list       \n",
    "                    eg. [[predicted, result], ...]\n",
    "    \"\"\"\n",
    "\n",
    "\n",
    "    # get all concepts(poses) as a list\n",
    "    poses = list(df_train['Pose'].value_counts().index)\n",
    "\n",
    "    # calculate prior prob for each pose\n",
    "    pb_c_dict = dict()\n",
    "    for pose in poses:\n",
    "        pb_c_dict[pose] = df_train.groupby('Pose').size()[pose] / len(df_train)\n",
    "\n",
    "    results = list()\n",
    "    for instance in np_test:\n",
    "            # prob_dict to store all the probabilities (log form) for comparison later\n",
    "            prob_dict = dict()\n",
    "            features = instance[1:] # remove concept\n",
    "            for pose in poses:\n",
    "                prob_sum = 0\n",
    "                pb_c = pb_c_dict[pose] # prior probability of class c_j\n",
    "                prob_sum += np.log(pb_c)\n",
    "\n",
    "                for i in range(len(features)):\n",
    "                    xn_array = np.array(df_train[df_train['Pose'] == pose].drop(['Pose'], axis=1).iloc[:,i]) # get n rows of feature i in train set\n",
    "                    x_test = features[i] # datapoint of feature i in test set\n",
    "                    phi = 0\n",
    "                    length = len(xn_array)\n",
    "                    for j in range(len(xn_array)):\n",
    "                        xn = xn_array[j]\n",
    "                        phi += calc_phi(x_test, xn, SIGMA) \n",
    "                    phi = phi / length\n",
    "                    prob_sum += np.log(phi)\n",
    "\n",
    "                prob_dict[pose] = prob_sum\n",
    "\n",
    "            predicted = max(prob_dict, key = prob_dict.get) # choose the highest value as predicted result\n",
    "            actual = instance[0]\n",
    "            results.append([predicted, actual])\n",
    "\n",
    "    return results"
   ]
  },
  {
   "cell_type": "code",
   "execution_count": 27,
   "metadata": {},
   "outputs": [
    {
     "name": "stdout",
     "output_type": "stream",
     "text": [
      "accuracy: 0.7672413793103449\n"
     ]
    }
   ],
   "source": [
    "# Question 3 answer\n",
    "\n",
    "train_path = 'data/train.csv'\n",
    "test_path = 'data/test.csv'\n",
    "df_train, np_test = preprocess(train_path, test_path)\n",
    "results_kde = predict_kde(np_test, df_train)\n",
    "accuracy = evaluate(results_kde)\n",
    "print('accuracy:', accuracy)"
   ]
  },
  {
   "cell_type": "markdown",
   "metadata": {},
   "source": [
    "### Q4\n",
    "Instead of using an arbitrary kernel bandwidth for the KDE naive Bayes classifier, use random hold-out or cross-validation to choose the kernel bandwidth. Discuss how this changes the model performance compared to using an arbitrary kernel bandwidth."
   ]
  },
  {
   "cell_type": "code",
   "execution_count": null,
   "metadata": {
    "collapsed": true
   },
   "outputs": [],
   "source": []
  },
  {
   "cell_type": "markdown",
   "metadata": {},
   "source": [
    "### Q5\n",
    "Naive Bayes ignores missing values, but in pose recognition tasks the missing values can be informative. Missing values indicate that some part of the body was obscured and sometimes this is relevant to the pose (e.g., holding one hand behind the back). Are missing values useful for this task? Implement a method that incorporates information about missing values and demonstrate whether it changes the classification results."
   ]
  },
  {
   "cell_type": "code",
   "execution_count": null,
   "metadata": {
    "collapsed": true
   },
   "outputs": [],
   "source": []
  },
  {
   "cell_type": "markdown",
   "metadata": {},
   "source": [
    "### Q6\n",
    "Engineer your own pose features from the provided keypoints. Instead of using the (x,y) positions of keypoints, you might consider the angles of the limbs or body, or the distances between pairs of keypoints. How does a naive Bayes classifier based on your engineered features compare to the classifier using (x,y) values? Please note that we are interested in explainable features for pose recognition, so simply putting the (x,y) values in a neural network or similar to get an arbitrary embedding will not receive full credit for this question. You should be able to explain the rationale behind your proposed features. Also, don't forget the conditional independence assumption of naive Bayes when proposing new features -- a large set of highly-correlated features may not work well."
   ]
  },
  {
   "cell_type": "code",
   "execution_count": null,
   "metadata": {
    "collapsed": true
   },
   "outputs": [],
   "source": []
  }
 ],
 "metadata": {
  "kernelspec": {
   "display_name": "Python 3.7.10 64-bit ('base': conda)",
   "name": "python3710jvsc74a57bd0dce69896fdb445434427c12e791455610f9ef8e6bb07ea975426634cd43b3db3"
  },
  "language_info": {
   "codemirror_mode": {
    "name": "ipython",
    "version": 3
   },
   "file_extension": ".py",
   "mimetype": "text/x-python",
   "name": "python",
   "nbconvert_exporter": "python",
   "pygments_lexer": "ipython3",
   "version": "3.7.10"
  }
 },
 "nbformat": 4,
 "nbformat_minor": 4
}