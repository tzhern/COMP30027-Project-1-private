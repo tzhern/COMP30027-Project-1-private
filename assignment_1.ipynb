{
 "cells": [
  {
   "cell_type": "markdown",
   "metadata": {},
   "source": [
    "###### ### The University of Melbourne, School of Computing and Information Systems\n",
    "# COMP30027 Machine Learning, 2021 Semester 1\n",
    "\n",
    "## Assignment 1: Pose classification with naive Bayes\n",
    "\n",
    "###### Submission deadline: 7 pm, Tuesday 6 Apr 2021"
   ]
  },
  {
   "cell_type": "markdown",
   "metadata": {},
   "source": [
    "**Student ID(s):**     `PLEASE ENTER YOUR ID(S) HERE`\n"
   ]
  },
  {
   "cell_type": "markdown",
   "metadata": {},
   "source": [
    "This iPython notebook is a template which you will use for your Assignment 1 submission.\n",
    "\n",
    "Marking will be applied on the four functions that are defined in this notebook, and to your responses to the questions at the end of this notebook (Submitted in a separate PDF file).\n",
    "\n",
    "**NOTE: YOU SHOULD ADD YOUR RESULTS, DIAGRAMS AND IMAGES FROM YOUR OBSERVATIONS IN THIS FILE TO YOUR REPORT (the PDF file).**\n",
    "\n",
    "You may change the prototypes of these functions, and you may write other functions, according to your requirements. We would appreciate it if the required functions were prominent/easy to find.\n",
    "\n",
    "**Adding proper comments to your code is MANDATORY. **"
   ]
  },
  {
   "cell_type": "code",
   "execution_count": 1,
   "metadata": {},
   "outputs": [],
   "source": [
    "import pandas as pd\n",
    "import numpy as np\n",
    "import matplotlib.pyplot as plt"
   ]
  },
  {
   "cell_type": "code",
   "execution_count": 44,
   "metadata": {
    "collapsed": true
   },
   "outputs": [],
   "source": [
    "# This function should prepare the data by reading it from a file and converting it into a useful format for training and testing\n",
    "\n",
    "def preprocess(train_path, test_path):\n",
    "    \"\"\"\n",
    "    Notes:\n",
    "    1) preprocessing train dataset using mean\n",
    "    2) do not preprocess test dataset\n",
    "    ----------\n",
    "    Parameters\n",
    "    ---------- \n",
    "    train_path  : path to train csv dataset\n",
    "    test_path   : path to test csv dataset\n",
    "    \n",
    "    Returns\n",
    "    -------\n",
    "    df_train    : train df dataset\n",
    "    np_test     : test np array dataset\n",
    "    \"\"\"\n",
    "    \n",
    "    headers = ['Pose', 'x1', 'x2', 'x3', 'x4', 'x5', 'x6', 'x7', 'x8', 'x9', 'x10', 'x11', 'y1', 'y2', 'y3', 'y4', 'y5', 'y6', 'y7', 'y8', 'y9', 'y10', 'y11']\n",
    "    df_train = pd.read_csv(train_path, names=headers)\n",
    "    df_test = pd.read_csv(test_path, names=headers)\n",
    "\n",
    "    # replace 9999 with NaN for further processing\n",
    "    df_train = df_train.replace([9999], np.nan)\n",
    "\n",
    "    df_train = df_train.dropna(subset = headers[1:], how='all')\n",
    "\n",
    "    '''Dealing with NaN values'''\n",
    "    # For train data\n",
    "    # filling missing values by mean in each group\n",
    "    f = lambda x: x.mean() if np.issubdtype(x.dtype, np.number) else x.mode().iloc[0]\n",
    "    df_train = df_train.fillna(df_train.groupby('Pose').transform(f))\n",
    "\n",
    "    # For test data\n",
    "    # convert df to np array\n",
    "    np_test = np.array(df_test)\n",
    "\n",
    "    return df_train, np_test\n",
    "\n",
    "\n",
    "train_path = 'data/train.csv'\n",
    "test_path = 'data/test.csv'\n",
    "\n",
    "df_train, np_test = preprocess(train_path, test_path)\n"
   ]
  },
  {
   "cell_type": "code",
   "execution_count": 41,
   "metadata": {
    "collapsed": true
   },
   "outputs": [],
   "source": [
    "# This function should calculate prior probabilities and likelihoods from the training data and usingthem to build a naive Bayes model\n",
    "\n",
    "def train(df_train):\n",
    "    \"\"\"\n",
    "    Notes:\n",
    "    1) calculate statistics for train dataset\n",
    "    ----------\n",
    "    Parameters\n",
    "    ---------- \n",
    "    df_train  : train datafram dataset\n",
    "    \n",
    "    Returns\n",
    "    -------\n",
    "    pose_dict : dict with prior probability for every pose, \n",
    "                with mean and std for every xi & yi\n",
    "                    eg. {pose: [pb_x, [[x1 mu, ..., y11 mu], [x1 sigma, ..., y11 sigma]]], ...}\n",
    "    \"\"\"\n",
    "\n",
    "    # get all concepts(poses) as a list\n",
    "    poses = list(df_train['Pose'].value_counts().index)\n",
    "\n",
    "    # calculate statistics in training dataset\n",
    "    pose_dict = dict()\n",
    "    for pose in poses:\n",
    "        pb_c = df_train.groupby('Pose').size()[pose] / len(df_train) # get prior probabilities\n",
    "        pose_dict[pose] = np.array([pb_c, df_train[df_train['Pose'] == pose].describe().iloc[[1,2]].values], dtype=object) # get mean & stdv for all x and y (from x1y1 to x11y11)\n",
    "\n",
    "    return pose_dict\n",
    "    \n",
    "\n",
    "pose_dict = train(df_train)"
   ]
  },
  {
   "cell_type": "code",
   "execution_count": 37,
   "metadata": {
    "collapsed": true
   },
   "outputs": [],
   "source": [
    "# This function should predict classes for new items in a test dataset (for the purposes of this assignment, you can re-use the training data as a test set)\n",
    "\n",
    "def calc_phi(x, mu, sigma):\n",
    "    \"\"\"\n",
    "    Notes:\n",
    "    1) get ϕ𝜎(x − mu)\n",
    "    ----------\n",
    "    Parameters\n",
    "    ---------- \n",
    "    x       : observed x for class i\n",
    "    mu      : mean for class i\n",
    "    sigma   : standard deviation for class i\n",
    "    \n",
    "    Returns\n",
    "    -------\n",
    "    phi     : probability of observing value x from a variable with μ and σ\n",
    "    \"\"\"\n",
    "\n",
    "    # return the likelihood of feature x_i in class c\n",
    "    phi = 1 / (sigma * np.sqrt(2 * np.pi)) * (np.e ** (- 1 / 2 * (((x - mu) / sigma) ** 2)))\n",
    "\n",
    "    # smoothing (with epsilon 0.0000001)\n",
    "    if phi == 0:\n",
    "        phi = 0.0000001\n",
    "\n",
    "    return phi\n",
    "\n",
    "def predict(np_test, pose_dict):\n",
    "    \"\"\"\n",
    "    Notes:\n",
    "    1) get ϕ𝜎(x − mu)\n",
    "    ----------\n",
    "    Parameters\n",
    "    ---------- \n",
    "    np_test     : test dataset                      \n",
    "                    eg. [[pose, x1, x2, ..., y10, y11], ...]\n",
    "    pose_dict   : prior probability for each pose   \n",
    "                    eg. {pose: [pb_x, [[x1 mu, ..., y11 mu], [x1 sigma, ..., y11 sigma]]], ...}\n",
    "    \n",
    "    Returns\n",
    "    -------\n",
    "    results     : probability of observing value x from a variable with μ and σ\n",
    "    \"\"\"\n",
    "\n",
    "    results = list()\n",
    "    for instance in np_test:\n",
    "        # prob_dict to store all the probabilities (log form) for comparison later\n",
    "        prob_dict = dict()\n",
    "        features = instance[1:] # remove concept\n",
    "        for pose in pose_dict:\n",
    "            prob = 0\n",
    "            pb_c = pose_dict[pose][0] # Prior probability of class c_j\n",
    "            prob += np.log(pb_c)\n",
    "            for i in range(len(features)):\n",
    "                x = features[i] # data x of feature x_i\n",
    "                mu = pose_dict[pose][1][0][i] # mean of feature x_i\n",
    "                sigma = pose_dict[pose][1][1][i] # stf of feature x_i\n",
    "                pb_x_c = pb_c * calc_phi(x, mu, sigma)\n",
    "                prob += np.log(pb_x_c)\n",
    "            prob_dict[pose] = prob\n",
    "        predicted = max(prob_dict, key = prob_dict.get) # choose the highest value as predicted result\n",
    "        actual = instance[0]\n",
    "        results.append([predicted, actual])\n",
    "\n",
    "    return results\n",
    "\n",
    "\n",
    "results = predict(np_test, pose_dict)\n"
   ]
  },
  {
   "cell_type": "code",
   "execution_count": 38,
   "metadata": {
    "collapsed": true
   },
   "outputs": [
    {
     "data": {
      "text/plain": "0.6551724137931034"
     },
     "execution_count": 38,
     "metadata": {},
     "output_type": "execute_result"
    }
   ],
   "source": [
    "# This function should evaliate the prediction performance by comparing your model’s class outputs to ground truth labels\n",
    "\n",
    "def evaluate(results):\n",
    "    \"\"\"\n",
    "    Notes:\n",
    "    1) get accuracy for the results\n",
    "    ----------\n",
    "    Parameters\n",
    "    ---------- \n",
    "    results     : 2d list       eg. [[predicted, result], ...]\n",
    "    \n",
    "    Returns\n",
    "    -------\n",
    "    accuracy  : int\n",
    "    \"\"\"\n",
    "\n",
    "    t = 0\n",
    "    n = len(results)\n",
    "    for predicted, actual in results:\n",
    "        if predicted == actual:\n",
    "            t += 1\n",
    "\n",
    "    accuracy = t / n\n",
    "\n",
    "    return accuracy\n",
    "    \n",
    "\n",
    "evaluate(results)"
   ]
  },
  {
   "cell_type": "code",
   "execution_count": 28,
   "metadata": {},
   "outputs": [
    {
     "name": "stdout",
     "output_type": "stream",
     "text": [
      "['mountain', 'downwarddog', 'bridge', 'tree', 'childs', 'trianglepose', 'plank', 'warrior1', 'warrior2', 'seatedforwardbend']\n"
     ]
    },
    {
     "data": {
      "text/plain": "array([[27,  0,  0,  3,  0,  0,  0,  0,  0,  0],\n       [ 3, 15,  0,  0,  0,  0,  0,  0,  0,  0],\n       [ 0,  8,  4,  0,  0,  0,  2,  0,  0,  0],\n       [ 0,  1,  0,  5,  0,  0,  0,  0,  0,  0],\n       [ 1,  7,  0,  0,  5,  0,  0,  0,  0,  0],\n       [ 0,  0,  0,  0,  0,  4,  0,  0,  0,  0],\n       [ 0,  2,  1,  0,  0,  2,  4,  0,  0,  0],\n       [ 0,  0,  0,  0,  0,  0,  1,  4,  0,  0],\n       [ 0,  0,  0,  1,  0,  0,  0,  0,  7,  0],\n       [ 0,  7,  0,  0,  0,  0,  1,  0,  0,  1]])"
     },
     "execution_count": 28,
     "metadata": {},
     "output_type": "execute_result"
    }
   ],
   "source": [
    "def get_con_matrix(results, poses):\n",
    "    \"\"\"\n",
    "    Notes:\n",
    "    1) convert result list to confusion matrix\n",
    "    ----------\n",
    "    Parameters\n",
    "    ---------- \n",
    "    results     : 2d list       eg. [[predicted, result], ...]\n",
    "    poses       : pose list     eg. [pose, ...]\n",
    "\n",
    "    Returns\n",
    "    -------\n",
    "    con_matrix  : confusion matrix for the result\n",
    "    \"\"\"\n",
    "\n",
    "    # create a dict for indexing\n",
    "    d = {key: {key: 0 for key in list(pose_dict.keys())} for key in list(pose_dict.keys())}\n",
    "    d = {key: 0 for key in list(pose_dict.keys())}\n",
    "    i = 0\n",
    "    for key in d.keys():\n",
    "        d[key] += i\n",
    "        i += 1\n",
    "\n",
    "    # show at which index is which pose\n",
    "    print(list(d.keys()))\n",
    "\n",
    "    # create confution matrix\n",
    "    length = len(pose_dict)\n",
    "    con_matrix = np.zeros(shape=[length, length], dtype='int64')\n",
    "    for predicted, actual in results:\n",
    "        i = d[actual]\n",
    "        j = d[predicted]\n",
    "        con_matrix[i][j] += 1\n",
    "\n",
    "    return con_matrix\n",
    "    \n",
    "\n",
    "poses = list(pose_dict.keys())\n",
    "get_con_matrix(results, poses)\n"
   ]
  },
  {
   "cell_type": "markdown",
   "metadata": {},
   "source": [
    "## Questions \n",
    "\n",
    "\n",
    "If you are in a group of 1, you will respond to **two** questions of your choosing.\n",
    "\n",
    "If you are in a group of 2, you will respond to **four** questions of your choosing.\n",
    "\n",
    "A response to a question should take about 100–250 words, and make reference to the data wherever possible.\n",
    "\n",
    "#### NOTE: you may develope codes or functions to help respond to the question here, but your formal answer should be submitted separately as a PDF."
   ]
  },
  {
   "cell_type": "markdown",
   "metadata": {},
   "source": [
    "### Q1\n",
    "Since this is a multiclass classification problem, there are multiple ways to compute precision, recall, and F-score for this classifier. Implement at least two of the methods from the \"Model Evaluation\" lecture and discuss any differences between them. (The implementation should be your own and should not just call a pre-existing function.)"
   ]
  },
  {
   "cell_type": "code",
   "execution_count": null,
   "metadata": {
    "collapsed": true
   },
   "outputs": [],
   "source": []
  },
  {
   "cell_type": "markdown",
   "metadata": {},
   "source": [
    "### Q2\n",
    "The Gaussian naıve Bayes classifier assumes that numeric attributes come from a Gaussian distribution. Is this assumption always true for the numeric attributes in this dataset? Identify some cases where the Gaussian assumption is violated and describe any evidence (or lack thereof) that this has some effect on the classifier’s predictions."
   ]
  },
  {
   "cell_type": "code",
   "execution_count": null,
   "metadata": {
    "collapsed": true
   },
   "outputs": [],
   "source": []
  },
  {
   "cell_type": "markdown",
   "metadata": {},
   "source": [
    "### Q3\n",
    "Implement a kernel density estimate (KDE) naive Bayes classifier and compare its performance to the Gaussian naive Bayes classifier. Recall that KDE has kernel bandwidth as a free parameter -- you can choose an arbitrary value for this, but a value in the range 5-25 is recommended. Discuss any differences you observe between the Gaussian and KDE naive Bayes classifiers. (As with the Gaussian naive Bayes, this KDE naive Bayes implementation should be your own and should not just call a pre-existing function.)"
   ]
  },
  {
   "cell_type": "code",
   "execution_count": 42,
   "metadata": {
    "collapsed": true
   },
   "outputs": [],
   "source": [
    "def predict_kde(np_test, df_train, SIGMA=5):\n",
    "\n",
    "    # get all concepts(poses) as a list\n",
    "    poses = list(df_train['Pose'].value_counts().index)\n",
    "\n",
    "    # calculate prior prob for each pose\n",
    "    pb_c_dict = dict()\n",
    "    for pose in poses:\n",
    "        pb_c_dict[pose] = df_train.groupby('Pose').size()[pose] / len(df_train)\n",
    "\n",
    "    results = list()\n",
    "    for instance in np_test:\n",
    "            # prob_dict to store all the probabilities (log form) for comparison later\n",
    "            prob_dict = dict()\n",
    "            features = instance[1:] # remove concept\n",
    "            for pose in poses:\n",
    "                prob_sum = 0\n",
    "                pb_c = pb_c_dict[pose] # prior probability of class c_j\n",
    "                prob_sum += np.log(pb_c)\n",
    "\n",
    "                for i in range(len(features)):\n",
    "                    xi_array = np.array(df_train[df_train['Pose'] == pose].drop(['Pose'], axis=1).iloc[:,i]) # get instance xi of test set\n",
    "                    x_test = features[i] # data x of feature x_i as x_test\n",
    "                    phi = 0\n",
    "                    for j in range(len(df_train)):\n",
    "                        xi = xi_array[i]\n",
    "                        phi += calc_phi(x_test, xi, SIGMA) \n",
    "                    phi = phi / len(df_train)\n",
    "                    prob_sum += np.log(phi)\n",
    "\n",
    "                prob_dict[pose] = prob_sum\n",
    "\n",
    "            predicted = max(prob_dict, key = prob_dict.get) # choose the highest value as predicted result\n",
    "            actual = instance[0]\n",
    "            results.append([predicted, actual])\n",
    "\n",
    "    return results\n",
    "\n",
    "results_kde = predict_kde(np_test, df_train)"
   ]
  },
  {
   "cell_type": "code",
   "execution_count": 45,
   "metadata": {},
   "outputs": [
    {
     "data": {
      "text/plain": "0.45689655172413796"
     },
     "execution_count": 45,
     "metadata": {},
     "output_type": "execute_result"
    }
   ],
   "source": [
    "evaluate(results_kde)"
   ]
  },
  {
   "cell_type": "markdown",
   "metadata": {},
   "source": [
    "### Q4\n",
    "Instead of using an arbitrary kernel bandwidth for the KDE naive Bayes classifier, use random hold-out or cross-validation to choose the kernel bandwidth. Discuss how this changes the model performance compared to using an arbitrary kernel bandwidth."
   ]
  },
  {
   "cell_type": "code",
   "execution_count": null,
   "metadata": {
    "collapsed": true
   },
   "outputs": [],
   "source": []
  },
  {
   "cell_type": "markdown",
   "metadata": {},
   "source": [
    "### Q5\n",
    "Naive Bayes ignores missing values, but in pose recognition tasks the missing values can be informative. Missing values indicate that some part of the body was obscured and sometimes this is relevant to the pose (e.g., holding one hand behind the back). Are missing values useful for this task? Implement a method that incorporates information about missing values and demonstrate whether it changes the classification results."
   ]
  },
  {
   "cell_type": "code",
   "execution_count": null,
   "metadata": {
    "collapsed": true
   },
   "outputs": [],
   "source": []
  },
  {
   "cell_type": "markdown",
   "metadata": {},
   "source": [
    "### Q6\n",
    "Engineer your own pose features from the provided keypoints. Instead of using the (x,y) positions of keypoints, you might consider the angles of the limbs or body, or the distances between pairs of keypoints. How does a naive Bayes classifier based on your engineered features compare to the classifier using (x,y) values? Please note that we are interested in explainable features for pose recognition, so simply putting the (x,y) values in a neural network or similar to get an arbitrary embedding will not receive full credit for this question. You should be able to explain the rationale behind your proposed features. Also, don't forget the conditional independence assumption of naive Bayes when proposing new features -- a large set of highly-correlated features may not work well."
   ]
  },
  {
   "cell_type": "code",
   "execution_count": null,
   "metadata": {
    "collapsed": true
   },
   "outputs": [],
   "source": []
  }
 ],
 "metadata": {
  "kernelspec": {
   "display_name": "Python 3",
   "language": "python",
   "name": "python3"
  },
  "language_info": {
   "codemirror_mode": {
    "name": "ipython",
    "version": 3
   },
   "file_extension": ".py",
   "mimetype": "text/x-python",
   "name": "python",
   "nbconvert_exporter": "python",
   "pygments_lexer": "ipython3",
   "version": "3.7.10"
  }
 },
 "nbformat": 4,
 "nbformat_minor": 4
}